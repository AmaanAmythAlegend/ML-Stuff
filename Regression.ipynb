{
  "nbformat": 4,
  "nbformat_minor": 0,
  "metadata": {
    "colab": {
      "provenance": [],
      "authorship_tag": "ABX9TyNDh2C5lfhYg6epxLTYDDnU",
      "include_colab_link": true
    },
    "kernelspec": {
      "name": "python3",
      "display_name": "Python 3"
    },
    "language_info": {
      "name": "python"
    }
  },
  "cells": [
    {
      "cell_type": "markdown",
      "metadata": {
        "id": "view-in-github",
        "colab_type": "text"
      },
      "source": [
        "<a href=\"https://colab.research.google.com/github/AmaanAmythAlegend/ML-Stuff/blob/main/Regression.ipynb\" target=\"_parent\"><img src=\"https://colab.research.google.com/assets/colab-badge.svg\" alt=\"Open In Colab\"/></a>"
      ]
    },
    {
      "cell_type": "code",
      "execution_count": null,
      "metadata": {
        "id": "5udgwkt4u0fI"
      },
      "outputs": [],
      "source": [
        "import numpy as np\n",
        "import tensorflow as tf\n",
        "import pandas as pd\n",
        "from sklearn.model_selection import train_test_split\n",
        "import copy, math"
      ]
    },
    {
      "cell_type": "code",
      "source": [
        "data = pd.read_csv(\"housing_data.csv\")"
      ],
      "metadata": {
        "id": "HorujkzZwiTt"
      },
      "execution_count": null,
      "outputs": []
    },
    {
      "cell_type": "code",
      "source": [
        "data.head()"
      ],
      "metadata": {
        "id": "OPJrRmLST_7x",
        "colab": {
          "base_uri": "https://localhost:8080/",
          "height": 345
        },
        "outputId": "91e11caa-45dc-4dab-de8a-650691b5a61c"
      },
      "execution_count": null,
      "outputs": [
        {
          "output_type": "execute_result",
          "data": {
            "text/plain": [
              "   Zip Code      Price  Beds  Baths  Living Space                Address  \\\n",
              "0     10013  3999000.0     2      3          1967      74 GRAND ST APT 3   \n",
              "1     10013  3999000.0     2      3          1967      74 GRAND ST APT 3   \n",
              "2     10014  1650000.0     1      1           718  140 CHARLES ST APT 4D   \n",
              "3     10014   760000.0     3      2          1538            38 JONES ST   \n",
              "4     10014  1100000.0     1      1           600   81 BEDFORD ST APT 3F   \n",
              "\n",
              "       City     State  Zip Code Population  Zip Code Density    County  \\\n",
              "0  New York  New York                29563           20967.9  New York   \n",
              "1  New York  New York                29563           20967.9  New York   \n",
              "2  New York  New York                29815           23740.9  New York   \n",
              "3  New York  New York                29815           23740.9  New York   \n",
              "4  New York  New York                29815           23740.9  New York   \n",
              "\n",
              "   Median Household Income  Latitude  Longitude  \n",
              "0                 370046.0  40.72001  -74.00472  \n",
              "1                 370046.0  40.72001  -74.00472  \n",
              "2                 249880.0  40.73407  -74.00601  \n",
              "3                 249880.0  40.73407  -74.00601  \n",
              "4                 249880.0  40.73407  -74.00601  "
            ],
            "text/html": [
              "\n",
              "  <div id=\"df-bf903348-528e-4f91-a03f-30035c0bc9e5\" class=\"colab-df-container\">\n",
              "    <div>\n",
              "<style scoped>\n",
              "    .dataframe tbody tr th:only-of-type {\n",
              "        vertical-align: middle;\n",
              "    }\n",
              "\n",
              "    .dataframe tbody tr th {\n",
              "        vertical-align: top;\n",
              "    }\n",
              "\n",
              "    .dataframe thead th {\n",
              "        text-align: right;\n",
              "    }\n",
              "</style>\n",
              "<table border=\"1\" class=\"dataframe\">\n",
              "  <thead>\n",
              "    <tr style=\"text-align: right;\">\n",
              "      <th></th>\n",
              "      <th>Zip Code</th>\n",
              "      <th>Price</th>\n",
              "      <th>Beds</th>\n",
              "      <th>Baths</th>\n",
              "      <th>Living Space</th>\n",
              "      <th>Address</th>\n",
              "      <th>City</th>\n",
              "      <th>State</th>\n",
              "      <th>Zip Code Population</th>\n",
              "      <th>Zip Code Density</th>\n",
              "      <th>County</th>\n",
              "      <th>Median Household Income</th>\n",
              "      <th>Latitude</th>\n",
              "      <th>Longitude</th>\n",
              "    </tr>\n",
              "  </thead>\n",
              "  <tbody>\n",
              "    <tr>\n",
              "      <th>0</th>\n",
              "      <td>10013</td>\n",
              "      <td>3999000.0</td>\n",
              "      <td>2</td>\n",
              "      <td>3</td>\n",
              "      <td>1967</td>\n",
              "      <td>74 GRAND ST APT 3</td>\n",
              "      <td>New York</td>\n",
              "      <td>New York</td>\n",
              "      <td>29563</td>\n",
              "      <td>20967.9</td>\n",
              "      <td>New York</td>\n",
              "      <td>370046.0</td>\n",
              "      <td>40.72001</td>\n",
              "      <td>-74.00472</td>\n",
              "    </tr>\n",
              "    <tr>\n",
              "      <th>1</th>\n",
              "      <td>10013</td>\n",
              "      <td>3999000.0</td>\n",
              "      <td>2</td>\n",
              "      <td>3</td>\n",
              "      <td>1967</td>\n",
              "      <td>74 GRAND ST APT 3</td>\n",
              "      <td>New York</td>\n",
              "      <td>New York</td>\n",
              "      <td>29563</td>\n",
              "      <td>20967.9</td>\n",
              "      <td>New York</td>\n",
              "      <td>370046.0</td>\n",
              "      <td>40.72001</td>\n",
              "      <td>-74.00472</td>\n",
              "    </tr>\n",
              "    <tr>\n",
              "      <th>2</th>\n",
              "      <td>10014</td>\n",
              "      <td>1650000.0</td>\n",
              "      <td>1</td>\n",
              "      <td>1</td>\n",
              "      <td>718</td>\n",
              "      <td>140 CHARLES ST APT 4D</td>\n",
              "      <td>New York</td>\n",
              "      <td>New York</td>\n",
              "      <td>29815</td>\n",
              "      <td>23740.9</td>\n",
              "      <td>New York</td>\n",
              "      <td>249880.0</td>\n",
              "      <td>40.73407</td>\n",
              "      <td>-74.00601</td>\n",
              "    </tr>\n",
              "    <tr>\n",
              "      <th>3</th>\n",
              "      <td>10014</td>\n",
              "      <td>760000.0</td>\n",
              "      <td>3</td>\n",
              "      <td>2</td>\n",
              "      <td>1538</td>\n",
              "      <td>38 JONES ST</td>\n",
              "      <td>New York</td>\n",
              "      <td>New York</td>\n",
              "      <td>29815</td>\n",
              "      <td>23740.9</td>\n",
              "      <td>New York</td>\n",
              "      <td>249880.0</td>\n",
              "      <td>40.73407</td>\n",
              "      <td>-74.00601</td>\n",
              "    </tr>\n",
              "    <tr>\n",
              "      <th>4</th>\n",
              "      <td>10014</td>\n",
              "      <td>1100000.0</td>\n",
              "      <td>1</td>\n",
              "      <td>1</td>\n",
              "      <td>600</td>\n",
              "      <td>81 BEDFORD ST APT 3F</td>\n",
              "      <td>New York</td>\n",
              "      <td>New York</td>\n",
              "      <td>29815</td>\n",
              "      <td>23740.9</td>\n",
              "      <td>New York</td>\n",
              "      <td>249880.0</td>\n",
              "      <td>40.73407</td>\n",
              "      <td>-74.00601</td>\n",
              "    </tr>\n",
              "  </tbody>\n",
              "</table>\n",
              "</div>\n",
              "    <div class=\"colab-df-buttons\">\n",
              "\n",
              "  <div class=\"colab-df-container\">\n",
              "    <button class=\"colab-df-convert\" onclick=\"convertToInteractive('df-bf903348-528e-4f91-a03f-30035c0bc9e5')\"\n",
              "            title=\"Convert this dataframe to an interactive table.\"\n",
              "            style=\"display:none;\">\n",
              "\n",
              "  <svg xmlns=\"http://www.w3.org/2000/svg\" height=\"24px\" viewBox=\"0 -960 960 960\">\n",
              "    <path d=\"M120-120v-720h720v720H120Zm60-500h600v-160H180v160Zm220 220h160v-160H400v160Zm0 220h160v-160H400v160ZM180-400h160v-160H180v160Zm440 0h160v-160H620v160ZM180-180h160v-160H180v160Zm440 0h160v-160H620v160Z\"/>\n",
              "  </svg>\n",
              "    </button>\n",
              "\n",
              "  <style>\n",
              "    .colab-df-container {\n",
              "      display:flex;\n",
              "      gap: 12px;\n",
              "    }\n",
              "\n",
              "    .colab-df-convert {\n",
              "      background-color: #E8F0FE;\n",
              "      border: none;\n",
              "      border-radius: 50%;\n",
              "      cursor: pointer;\n",
              "      display: none;\n",
              "      fill: #1967D2;\n",
              "      height: 32px;\n",
              "      padding: 0 0 0 0;\n",
              "      width: 32px;\n",
              "    }\n",
              "\n",
              "    .colab-df-convert:hover {\n",
              "      background-color: #E2EBFA;\n",
              "      box-shadow: 0px 1px 2px rgba(60, 64, 67, 0.3), 0px 1px 3px 1px rgba(60, 64, 67, 0.15);\n",
              "      fill: #174EA6;\n",
              "    }\n",
              "\n",
              "    .colab-df-buttons div {\n",
              "      margin-bottom: 4px;\n",
              "    }\n",
              "\n",
              "    [theme=dark] .colab-df-convert {\n",
              "      background-color: #3B4455;\n",
              "      fill: #D2E3FC;\n",
              "    }\n",
              "\n",
              "    [theme=dark] .colab-df-convert:hover {\n",
              "      background-color: #434B5C;\n",
              "      box-shadow: 0px 1px 3px 1px rgba(0, 0, 0, 0.15);\n",
              "      filter: drop-shadow(0px 1px 2px rgba(0, 0, 0, 0.3));\n",
              "      fill: #FFFFFF;\n",
              "    }\n",
              "  </style>\n",
              "\n",
              "    <script>\n",
              "      const buttonEl =\n",
              "        document.querySelector('#df-bf903348-528e-4f91-a03f-30035c0bc9e5 button.colab-df-convert');\n",
              "      buttonEl.style.display =\n",
              "        google.colab.kernel.accessAllowed ? 'block' : 'none';\n",
              "\n",
              "      async function convertToInteractive(key) {\n",
              "        const element = document.querySelector('#df-bf903348-528e-4f91-a03f-30035c0bc9e5');\n",
              "        const dataTable =\n",
              "          await google.colab.kernel.invokeFunction('convertToInteractive',\n",
              "                                                    [key], {});\n",
              "        if (!dataTable) return;\n",
              "\n",
              "        const docLinkHtml = 'Like what you see? Visit the ' +\n",
              "          '<a target=\"_blank\" href=https://colab.research.google.com/notebooks/data_table.ipynb>data table notebook</a>'\n",
              "          + ' to learn more about interactive tables.';\n",
              "        element.innerHTML = '';\n",
              "        dataTable['output_type'] = 'display_data';\n",
              "        await google.colab.output.renderOutput(dataTable, element);\n",
              "        const docLink = document.createElement('div');\n",
              "        docLink.innerHTML = docLinkHtml;\n",
              "        element.appendChild(docLink);\n",
              "      }\n",
              "    </script>\n",
              "  </div>\n",
              "\n",
              "\n",
              "<div id=\"df-d3082dc8-b8a4-484b-806d-af0558d0ae8b\">\n",
              "  <button class=\"colab-df-quickchart\" onclick=\"quickchart('df-d3082dc8-b8a4-484b-806d-af0558d0ae8b')\"\n",
              "            title=\"Suggest charts\"\n",
              "            style=\"display:none;\">\n",
              "\n",
              "<svg xmlns=\"http://www.w3.org/2000/svg\" height=\"24px\"viewBox=\"0 0 24 24\"\n",
              "     width=\"24px\">\n",
              "    <g>\n",
              "        <path d=\"M19 3H5c-1.1 0-2 .9-2 2v14c0 1.1.9 2 2 2h14c1.1 0 2-.9 2-2V5c0-1.1-.9-2-2-2zM9 17H7v-7h2v7zm4 0h-2V7h2v10zm4 0h-2v-4h2v4z\"/>\n",
              "    </g>\n",
              "</svg>\n",
              "  </button>\n",
              "\n",
              "<style>\n",
              "  .colab-df-quickchart {\n",
              "      --bg-color: #E8F0FE;\n",
              "      --fill-color: #1967D2;\n",
              "      --hover-bg-color: #E2EBFA;\n",
              "      --hover-fill-color: #174EA6;\n",
              "      --disabled-fill-color: #AAA;\n",
              "      --disabled-bg-color: #DDD;\n",
              "  }\n",
              "\n",
              "  [theme=dark] .colab-df-quickchart {\n",
              "      --bg-color: #3B4455;\n",
              "      --fill-color: #D2E3FC;\n",
              "      --hover-bg-color: #434B5C;\n",
              "      --hover-fill-color: #FFFFFF;\n",
              "      --disabled-bg-color: #3B4455;\n",
              "      --disabled-fill-color: #666;\n",
              "  }\n",
              "\n",
              "  .colab-df-quickchart {\n",
              "    background-color: var(--bg-color);\n",
              "    border: none;\n",
              "    border-radius: 50%;\n",
              "    cursor: pointer;\n",
              "    display: none;\n",
              "    fill: var(--fill-color);\n",
              "    height: 32px;\n",
              "    padding: 0;\n",
              "    width: 32px;\n",
              "  }\n",
              "\n",
              "  .colab-df-quickchart:hover {\n",
              "    background-color: var(--hover-bg-color);\n",
              "    box-shadow: 0 1px 2px rgba(60, 64, 67, 0.3), 0 1px 3px 1px rgba(60, 64, 67, 0.15);\n",
              "    fill: var(--button-hover-fill-color);\n",
              "  }\n",
              "\n",
              "  .colab-df-quickchart-complete:disabled,\n",
              "  .colab-df-quickchart-complete:disabled:hover {\n",
              "    background-color: var(--disabled-bg-color);\n",
              "    fill: var(--disabled-fill-color);\n",
              "    box-shadow: none;\n",
              "  }\n",
              "\n",
              "  .colab-df-spinner {\n",
              "    border: 2px solid var(--fill-color);\n",
              "    border-color: transparent;\n",
              "    border-bottom-color: var(--fill-color);\n",
              "    animation:\n",
              "      spin 1s steps(1) infinite;\n",
              "  }\n",
              "\n",
              "  @keyframes spin {\n",
              "    0% {\n",
              "      border-color: transparent;\n",
              "      border-bottom-color: var(--fill-color);\n",
              "      border-left-color: var(--fill-color);\n",
              "    }\n",
              "    20% {\n",
              "      border-color: transparent;\n",
              "      border-left-color: var(--fill-color);\n",
              "      border-top-color: var(--fill-color);\n",
              "    }\n",
              "    30% {\n",
              "      border-color: transparent;\n",
              "      border-left-color: var(--fill-color);\n",
              "      border-top-color: var(--fill-color);\n",
              "      border-right-color: var(--fill-color);\n",
              "    }\n",
              "    40% {\n",
              "      border-color: transparent;\n",
              "      border-right-color: var(--fill-color);\n",
              "      border-top-color: var(--fill-color);\n",
              "    }\n",
              "    60% {\n",
              "      border-color: transparent;\n",
              "      border-right-color: var(--fill-color);\n",
              "    }\n",
              "    80% {\n",
              "      border-color: transparent;\n",
              "      border-right-color: var(--fill-color);\n",
              "      border-bottom-color: var(--fill-color);\n",
              "    }\n",
              "    90% {\n",
              "      border-color: transparent;\n",
              "      border-bottom-color: var(--fill-color);\n",
              "    }\n",
              "  }\n",
              "</style>\n",
              "\n",
              "  <script>\n",
              "    async function quickchart(key) {\n",
              "      const quickchartButtonEl =\n",
              "        document.querySelector('#' + key + ' button');\n",
              "      quickchartButtonEl.disabled = true;  // To prevent multiple clicks.\n",
              "      quickchartButtonEl.classList.add('colab-df-spinner');\n",
              "      try {\n",
              "        const charts = await google.colab.kernel.invokeFunction(\n",
              "            'suggestCharts', [key], {});\n",
              "      } catch (error) {\n",
              "        console.error('Error during call to suggestCharts:', error);\n",
              "      }\n",
              "      quickchartButtonEl.classList.remove('colab-df-spinner');\n",
              "      quickchartButtonEl.classList.add('colab-df-quickchart-complete');\n",
              "    }\n",
              "    (() => {\n",
              "      let quickchartButtonEl =\n",
              "        document.querySelector('#df-d3082dc8-b8a4-484b-806d-af0558d0ae8b button');\n",
              "      quickchartButtonEl.style.display =\n",
              "        google.colab.kernel.accessAllowed ? 'block' : 'none';\n",
              "    })();\n",
              "  </script>\n",
              "</div>\n",
              "\n",
              "    </div>\n",
              "  </div>\n"
            ]
          },
          "metadata": {},
          "execution_count": 3
        }
      ]
    },
    {
      "cell_type": "code",
      "source": [
        "Y = data[\"Price\"].values\n",
        "X = data.iloc[:, [2,3,4,11]].values\n",
        "X_train, X_test, Y_train, Y_test = train_test_split(X, Y, test_size = 0.95, random_state = 40)\n",
        "Y_train"
      ],
      "metadata": {
        "id": "V_p_ZBy1UMtz",
        "colab": {
          "base_uri": "https://localhost:8080/"
        },
        "outputId": "165835e9-fe98-47fe-f799-b2f661a21944"
      },
      "execution_count": null,
      "outputs": [
        {
          "output_type": "execute_result",
          "data": {
            "text/plain": [
              "array([384900., 419900., 175000., ..., 179900., 325000., 250000.])"
            ]
          },
          "metadata": {},
          "execution_count": 4
        }
      ]
    },
    {
      "cell_type": "markdown",
      "source": [
        "## Polynomial Regression and Feature Scaling"
      ],
      "metadata": {
        "id": "9s59OjWHYiO1"
      }
    },
    {
      "cell_type": "code",
      "source": [
        "P_train = np.c_[X_train, X_train**2, X_train**3, X_train**4, X_train**5, X_train**6]\n",
        "\n",
        "def zscore_normalize_features(X,rtn_ms=False):\n",
        "    mu     = np.mean(X,axis=0)\n",
        "    sigma  = np.std(X,axis=0)\n",
        "    X_norm = (X - mu)/sigma\n",
        "\n",
        "    if rtn_ms:\n",
        "        return(X_norm, mu, sigma)\n",
        "    else:\n",
        "        return(X_norm)\n",
        "\n",
        "P_train = zscore_normalize_features(P_train)\n",
        "P_train.shape"
      ],
      "metadata": {
        "colab": {
          "base_uri": "https://localhost:8080/"
        },
        "id": "ozCczmLX22F8",
        "outputId": "b9f991fc-d44d-4190-8c0b-df282c8fb231"
      },
      "execution_count": null,
      "outputs": [
        {
          "output_type": "execute_result",
          "data": {
            "text/plain": [
              "(1999, 24)"
            ]
          },
          "metadata": {},
          "execution_count": 5
        }
      ]
    },
    {
      "cell_type": "markdown",
      "source": [
        "## Initial Parameters"
      ],
      "metadata": {
        "id": "3NyPZNSdYrPA"
      }
    },
    {
      "cell_type": "code",
      "source": [
        "b_init = 100000.\n",
        "w_init = np.array([100000. for i in range(24)])"
      ],
      "metadata": {
        "id": "dB8fMSq_YAIB"
      },
      "execution_count": null,
      "outputs": []
    },
    {
      "cell_type": "code",
      "source": [
        "def predict(x, w, b):\n",
        "  p = np.dot(w,x) + b\n",
        "  return p"
      ],
      "metadata": {
        "id": "wVlQi020b6ZD"
      },
      "execution_count": null,
      "outputs": []
    },
    {
      "cell_type": "code",
      "source": [
        "def compute_cost(x, y, w, b):\n",
        "  m = x.shape[0]\n",
        "  cost = 0.\n",
        "  for i in range(m):\n",
        "    cost = cost + ((np.dot(x[i],w) + b - y[i])**2/(2*m))\n",
        "  return cost"
      ],
      "metadata": {
        "id": "Ob_ZJ7m0i4He"
      },
      "execution_count": null,
      "outputs": []
    },
    {
      "cell_type": "code",
      "source": [
        "def compute_gradient(x, y, w, b):\n",
        "  m, n = x.shape\n",
        "  df_dw = np.zeros((n,))\n",
        "  df_db = 0.0\n",
        "  for i in range(m):\n",
        "    err = np.dot(x[i],w) + b - y[i]\n",
        "    df_dw = np.add(df_dw, err*x[i])\n",
        "    df_db+=err\n",
        "\n",
        "  df_dw /= m\n",
        "  df_db /= m\n",
        "  return df_dw, df_db"
      ],
      "metadata": {
        "id": "DdamloP6jj0c"
      },
      "execution_count": null,
      "outputs": []
    },
    {
      "cell_type": "code",
      "source": [
        "def gradient_descent(x, y, w_init, b_init, alpha, iter, cost, grad):\n",
        "  w = copy.deepcopy(w_init)\n",
        "  b = b_init\n",
        "  J_his = []\n",
        "\n",
        "  for i in range(iter):\n",
        "    dj_dw, dj_db = grad(x,y,w,b)\n",
        "    w = w - alpha*dj_dw\n",
        "    b = b - alpha*dj_db\n",
        "    if i%math.ceil(iter / 10) == 0:\n",
        "      print(\"Iteration \", i, \": Cost \", cost(x, y, w, b))\n",
        "      print(\"dj_dw is \", dj_dw)\n",
        "      print(\"dj_db is \", dj_db)\n",
        "      print()\n",
        "  return w, b, J_his"
      ],
      "metadata": {
        "id": "EqOOFGi_mIY_"
      },
      "execution_count": null,
      "outputs": []
    },
    {
      "cell_type": "code",
      "source": [
        "iter = 10000\n",
        "alpha = 0.1"
      ],
      "metadata": {
        "id": "Wf99KBh7pPj3"
      },
      "execution_count": null,
      "outputs": []
    },
    {
      "cell_type": "markdown",
      "source": [
        "## Computing minimum cost using gradient descent"
      ],
      "metadata": {
        "id": "7PRwgqrHMUKi"
      }
    },
    {
      "cell_type": "code",
      "source": [
        "w_final, b_final, J_his = gradient_descent(P_train, Y_train, w_init, b_init, alpha, iter, compute_cost, compute_gradient)\n",
        "m,_ = X_train.shape"
      ],
      "metadata": {
        "colab": {
          "base_uri": "https://localhost:8080/"
        },
        "id": "3VqnlhYvpW7-",
        "outputId": "30205d9e-c888-4598-dc6b-a911e8730ebb"
      },
      "execution_count": null,
      "outputs": [
        {
          "output_type": "stream",
          "name": "stdout",
          "text": [
            "Iteration  0 : Cost  397187426163.2892\n",
            "dj_dw is  [686544.89768612 637721.16624515 657078.72665629 260995.17348971\n",
            " 823158.32215526 731272.21267142 669754.20152284 313393.3829022\n",
            " 867343.45292457 772595.8136375  614766.88899718 345770.08165213\n",
            " 815189.50872006 761866.54470658 545151.90694291 353150.96823338\n",
            " 732590.05257608 720761.9642023  486554.08611495 347445.57627024\n",
            " 659119.36940446 671332.22455929 441431.59288823 339471.27394776]\n",
            "dj_db is  -519394.152576288\n",
            "\n",
            "Iteration  1000 : Cost  235482442071.85785\n",
            "dj_dw is  [   84.40201464  -352.37407721  -708.46964238  -577.26798411\n",
            "  -300.61484794   830.14711709  1428.73016554  1036.82887449\n",
            "    31.84590903   -97.42098607    22.34939665   200.89109503\n",
            "   434.51127418  -711.0374786  -1283.99810869 -1002.5946593\n",
            "   242.57391624  -261.04656273  -770.2186045   -774.73794934\n",
            "  -516.66477071   607.2197553   1307.80789922  1133.47586941]\n",
            "dj_db is  -3.8424626984197895e-10\n",
            "\n",
            "Iteration  2000 : Cost  234356335459.19934\n",
            "dj_dw is  [  328.99313995  -288.74596496  -724.57063698  -564.67212239\n",
            "  -392.96888383   648.24934192  1226.3107504    956.94077782\n",
            "  -168.06820764   -68.36538981   150.83588847   243.97039572\n",
            "   329.88730242  -518.1879262  -1011.09171951  -885.40966478\n",
            "   289.96683808  -167.05731019  -683.13946572  -733.93125057\n",
            "  -343.03856269   417.76225474   994.389658     991.18367452]\n",
            "dj_db is  -2.0944857676366737e-10\n",
            "\n",
            "Iteration  3000 : Cost  233505566679.1935\n",
            "dj_dw is  [ 316.01031307 -208.69259768 -620.64618909 -513.07969758 -385.42027001\n",
            "  498.66699273 1033.14877364  861.12593011 -162.8788643   -79.70316771\n",
            "  157.08308042  238.14098007  329.83616639 -396.83948219 -857.60675156\n",
            " -804.18115055  287.98458751  -95.67127305 -599.67036799 -685.10175768\n",
            " -346.19849836  301.16155148  846.47710972  909.85944894]\n",
            "dj_db is  -9.568302839502446e-11\n",
            "\n",
            "Iteration  4000 : Cost  232848455596.3205\n",
            "dj_dw is  [ 292.83566579 -151.34555326 -526.98492224 -466.31038251 -364.94226233\n",
            "  384.84809632  871.77166725  774.23234781 -154.42926285  -85.11562563\n",
            "  153.92107972  232.46529443  321.57810515 -301.67056708 -736.49814931\n",
            " -730.7932441   280.19137846  -41.5076251  -529.3869052  -640.67916033\n",
            " -342.29287024  209.31959614  732.85731274  836.59107583]\n",
            "dj_db is  3.3049372254520015e-11\n",
            "\n",
            "Iteration  5000 : Cost  232332984302.87286\n",
            "dj_dw is  [ 2.67710780e+02 -1.08322681e+02 -4.48948924e+02 -4.23557020e+02\n",
            " -3.37666086e+02  2.97570150e+02  7.38142211e+02  6.95324081e+02\n",
            " -1.47146000e+02 -8.83080897e+01  1.50008173e+02  2.26906505e+02\n",
            "  3.06306353e+02 -2.28078249e+02 -6.36676539e+02 -6.64447009e+02\n",
            "  2.69371480e+02 -2.46752214e-01 -4.70559874e+02 -6.00243894e+02\n",
            " -3.30946137e+02  1.38541575e+02  6.39407207e+02  7.70492428e+02]\n",
            "dj_db is  1.5997643274566781e-10\n",
            "\n",
            "Iteration  6000 : Cost  231923341444.62796\n",
            "dj_dw is  [ 242.19641612  -75.81727    -384.11941664 -384.45589838 -306.73373101\n",
            "  230.62115782  626.96347494  623.5944102  -140.92431267  -90.2239941\n",
            "  146.24652218  221.52499403  286.79804043 -171.40889375 -553.45290657\n",
            " -604.37323566  256.87405057   31.12395553 -421.0691422  -563.40675843\n",
            " -314.92997373   84.32988747  561.40178293  710.75042048]\n",
            "dj_db is  2.2528898073411572e-10\n",
            "\n",
            "Iteration  7000 : Cost  231594222014.91147\n",
            "dj_dw is  [ 217.19733206  -51.34786177 -329.96473852 -348.69824896 -274.31799827\n",
            "  179.36331343  533.86335149  558.33982368 -135.57981729  -91.23732321\n",
            "  142.74210338  216.37174362  265.07509135 -127.85767197 -483.5536138\n",
            " -549.89937182  243.6312002    54.88047331 -379.16741517 -529.82456588\n",
            " -296.30055091   42.9292741   495.77687881  656.6552264 ]\n",
            "dj_db is  3.2251528378067283e-10\n",
            "\n",
            "Iteration  8000 : Cost  231327307662.75775\n",
            "dj_dw is  [ 193.29130063  -33.05908707 -284.43449252 -315.99724182 -241.90667484\n",
            "  140.24048302  455.39100315  498.93441025 -130.96126187  -91.58993746\n",
            "  139.50501143  211.47526185  242.54834215  -94.46537865 -424.45387852\n",
            " -500.44182316  230.28410022   72.76871653 -343.46783036 -499.19016814\n",
            " -276.50400801   11.41578289  440.19658458  607.59739384]\n",
            "dj_db is  4.3255367827391614e-10\n",
            "\n",
            "Iteration  9000 : Cost  231109046425.42764\n",
            "dj_dw is  [ 170.82930589  -19.52755689 -245.91053396 -286.08929216 -210.48801712\n",
            "  110.51085587  388.82942618  444.82007291 -126.94684071  -91.46062198\n",
            "  136.52882202  206.84980112  220.1784325   -68.94586203 -374.16969673\n",
            " -455.48989549  217.26174667   86.13249815 -312.87060275 -471.22832149\n",
            " -256.53529599  -12.46517801  392.82693431  563.04816715]\n",
            "dj_db is  4.822587694091282e-10\n",
            "\n"
          ]
        }
      ]
    },
    {
      "cell_type": "code",
      "source": [
        "m,_ = P_train.shape\n",
        "\n",
        "for i in range(m):\n",
        "  print(\"Predicted: \", predict(P_train[i], w_final, b_final))\n",
        "  print(\"Actual: \", Y_train[i])\n",
        "  print()"
      ],
      "metadata": {
        "id": "nmbgXlI9mcIJ"
      },
      "execution_count": null,
      "outputs": []
    },
    {
      "cell_type": "markdown",
      "source": [
        "## Computing minimum cost using the normal equation"
      ],
      "metadata": {
        "id": "vQlfK_9aM1nI"
      }
    },
    {
      "cell_type": "code",
      "source": [
        "b = np.ones((P_train.shape[0], 1))\n",
        "c = np.hstack((b, P_train))\n",
        "tran = c.T\n",
        "f1 = np.matmul(tran, c)\n",
        "f2 = np.linalg.inv(f1)\n",
        "f3 = np.matmul(f2, tran)\n",
        "final = np.matmul(f3, Y_train)\n",
        "def compute_cost1(x, y, w):\n",
        "  f = np.subtract(np.matmul(x,w), y)\n",
        "  fl = f.T\n",
        "  print(np.matmul(f.T, f)/(2*m))\n",
        "compute_cost1(c, Y_train, final)"
      ],
      "metadata": {
        "colab": {
          "base_uri": "https://localhost:8080/"
        },
        "id": "xomIkMBOqwog",
        "outputId": "02c76d76-8552-46a1-b2cc-714e754b115c"
      },
      "execution_count": null,
      "outputs": [
        {
          "output_type": "stream",
          "name": "stdout",
          "text": [
            "222062873718.62543\n"
          ]
        }
      ]
    },
    {
      "cell_type": "markdown",
      "source": [
        "Not very far off from the gradient descent value...although training error is very high. Model suffers from high bias even when a sixth order polynomial was fitted onto the data."
      ],
      "metadata": {
        "id": "uWWqxfPBM9QB"
      }
    }
  ]
}