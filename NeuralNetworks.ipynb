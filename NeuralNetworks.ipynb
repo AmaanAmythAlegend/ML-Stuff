{
  "cells": [
    {
      "cell_type": "markdown",
      "metadata": {
        "id": "view-in-github",
        "colab_type": "text"
      },
      "source": [
        "<a href=\"https://colab.research.google.com/github/AmaanAmythAlegend/ML-Stuff/blob/main/NeuralNetworks.ipynb\" target=\"_parent\"><img src=\"https://colab.research.google.com/assets/colab-badge.svg\" alt=\"Open In Colab\"/></a>"
      ]
    },
    {
      "cell_type": "code",
      "execution_count": 1,
      "metadata": {
        "id": "ANijOL3xum92"
      },
      "outputs": [],
      "source": [
        "import numpy as np\n",
        "import pandas as pd\n",
        "import tensorflow as tf\n",
        "from tensorflow.keras.models import Sequential\n",
        "from tensorflow.keras.layers import Dense\n",
        "from tensorflow.keras.activations import linear, relu, sigmoid\n",
        "from sklearn.model_selection import train_test_split"
      ]
    },
    {
      "cell_type": "markdown",
      "source": [
        "Housing data taken off Kaggle for the purposes of this trial."
      ],
      "metadata": {
        "id": "SXvDwnO1WjAf"
      }
    },
    {
      "cell_type": "code",
      "execution_count": 2,
      "metadata": {
        "id": "MPpKGVpZvNcf"
      },
      "outputs": [],
      "source": [
        "data = pd.read_csv(\"housing_data.csv\")"
      ]
    },
    {
      "cell_type": "code",
      "execution_count": 3,
      "metadata": {
        "colab": {
          "base_uri": "https://localhost:8080/",
          "height": 345
        },
        "id": "lb80gh6GwUni",
        "outputId": "621b1801-faeb-4965-f93f-1bef66a4ede1"
      },
      "outputs": [
        {
          "output_type": "execute_result",
          "data": {
            "text/plain": [
              "   Zip Code      Price  Beds  Baths  Living Space                Address  \\\n",
              "0     10013  3999000.0     2      3          1967      74 GRAND ST APT 3   \n",
              "1     10013  3999000.0     2      3          1967      74 GRAND ST APT 3   \n",
              "2     10014  1650000.0     1      1           718  140 CHARLES ST APT 4D   \n",
              "3     10014   760000.0     3      2          1538            38 JONES ST   \n",
              "4     10014  1100000.0     1      1           600   81 BEDFORD ST APT 3F   \n",
              "\n",
              "       City     State  Zip Code Population  Zip Code Density    County  \\\n",
              "0  New York  New York                29563           20967.9  New York   \n",
              "1  New York  New York                29563           20967.9  New York   \n",
              "2  New York  New York                29815           23740.9  New York   \n",
              "3  New York  New York                29815           23740.9  New York   \n",
              "4  New York  New York                29815           23740.9  New York   \n",
              "\n",
              "   Median Household Income  Latitude  Longitude  \n",
              "0                 370046.0  40.72001  -74.00472  \n",
              "1                 370046.0  40.72001  -74.00472  \n",
              "2                 249880.0  40.73407  -74.00601  \n",
              "3                 249880.0  40.73407  -74.00601  \n",
              "4                 249880.0  40.73407  -74.00601  "
            ],
            "text/html": [
              "\n",
              "  <div id=\"df-927d47fd-f5bb-4930-9033-bf21928a64d5\" class=\"colab-df-container\">\n",
              "    <div>\n",
              "<style scoped>\n",
              "    .dataframe tbody tr th:only-of-type {\n",
              "        vertical-align: middle;\n",
              "    }\n",
              "\n",
              "    .dataframe tbody tr th {\n",
              "        vertical-align: top;\n",
              "    }\n",
              "\n",
              "    .dataframe thead th {\n",
              "        text-align: right;\n",
              "    }\n",
              "</style>\n",
              "<table border=\"1\" class=\"dataframe\">\n",
              "  <thead>\n",
              "    <tr style=\"text-align: right;\">\n",
              "      <th></th>\n",
              "      <th>Zip Code</th>\n",
              "      <th>Price</th>\n",
              "      <th>Beds</th>\n",
              "      <th>Baths</th>\n",
              "      <th>Living Space</th>\n",
              "      <th>Address</th>\n",
              "      <th>City</th>\n",
              "      <th>State</th>\n",
              "      <th>Zip Code Population</th>\n",
              "      <th>Zip Code Density</th>\n",
              "      <th>County</th>\n",
              "      <th>Median Household Income</th>\n",
              "      <th>Latitude</th>\n",
              "      <th>Longitude</th>\n",
              "    </tr>\n",
              "  </thead>\n",
              "  <tbody>\n",
              "    <tr>\n",
              "      <th>0</th>\n",
              "      <td>10013</td>\n",
              "      <td>3999000.0</td>\n",
              "      <td>2</td>\n",
              "      <td>3</td>\n",
              "      <td>1967</td>\n",
              "      <td>74 GRAND ST APT 3</td>\n",
              "      <td>New York</td>\n",
              "      <td>New York</td>\n",
              "      <td>29563</td>\n",
              "      <td>20967.9</td>\n",
              "      <td>New York</td>\n",
              "      <td>370046.0</td>\n",
              "      <td>40.72001</td>\n",
              "      <td>-74.00472</td>\n",
              "    </tr>\n",
              "    <tr>\n",
              "      <th>1</th>\n",
              "      <td>10013</td>\n",
              "      <td>3999000.0</td>\n",
              "      <td>2</td>\n",
              "      <td>3</td>\n",
              "      <td>1967</td>\n",
              "      <td>74 GRAND ST APT 3</td>\n",
              "      <td>New York</td>\n",
              "      <td>New York</td>\n",
              "      <td>29563</td>\n",
              "      <td>20967.9</td>\n",
              "      <td>New York</td>\n",
              "      <td>370046.0</td>\n",
              "      <td>40.72001</td>\n",
              "      <td>-74.00472</td>\n",
              "    </tr>\n",
              "    <tr>\n",
              "      <th>2</th>\n",
              "      <td>10014</td>\n",
              "      <td>1650000.0</td>\n",
              "      <td>1</td>\n",
              "      <td>1</td>\n",
              "      <td>718</td>\n",
              "      <td>140 CHARLES ST APT 4D</td>\n",
              "      <td>New York</td>\n",
              "      <td>New York</td>\n",
              "      <td>29815</td>\n",
              "      <td>23740.9</td>\n",
              "      <td>New York</td>\n",
              "      <td>249880.0</td>\n",
              "      <td>40.73407</td>\n",
              "      <td>-74.00601</td>\n",
              "    </tr>\n",
              "    <tr>\n",
              "      <th>3</th>\n",
              "      <td>10014</td>\n",
              "      <td>760000.0</td>\n",
              "      <td>3</td>\n",
              "      <td>2</td>\n",
              "      <td>1538</td>\n",
              "      <td>38 JONES ST</td>\n",
              "      <td>New York</td>\n",
              "      <td>New York</td>\n",
              "      <td>29815</td>\n",
              "      <td>23740.9</td>\n",
              "      <td>New York</td>\n",
              "      <td>249880.0</td>\n",
              "      <td>40.73407</td>\n",
              "      <td>-74.00601</td>\n",
              "    </tr>\n",
              "    <tr>\n",
              "      <th>4</th>\n",
              "      <td>10014</td>\n",
              "      <td>1100000.0</td>\n",
              "      <td>1</td>\n",
              "      <td>1</td>\n",
              "      <td>600</td>\n",
              "      <td>81 BEDFORD ST APT 3F</td>\n",
              "      <td>New York</td>\n",
              "      <td>New York</td>\n",
              "      <td>29815</td>\n",
              "      <td>23740.9</td>\n",
              "      <td>New York</td>\n",
              "      <td>249880.0</td>\n",
              "      <td>40.73407</td>\n",
              "      <td>-74.00601</td>\n",
              "    </tr>\n",
              "  </tbody>\n",
              "</table>\n",
              "</div>\n",
              "    <div class=\"colab-df-buttons\">\n",
              "\n",
              "  <div class=\"colab-df-container\">\n",
              "    <button class=\"colab-df-convert\" onclick=\"convertToInteractive('df-927d47fd-f5bb-4930-9033-bf21928a64d5')\"\n",
              "            title=\"Convert this dataframe to an interactive table.\"\n",
              "            style=\"display:none;\">\n",
              "\n",
              "  <svg xmlns=\"http://www.w3.org/2000/svg\" height=\"24px\" viewBox=\"0 -960 960 960\">\n",
              "    <path d=\"M120-120v-720h720v720H120Zm60-500h600v-160H180v160Zm220 220h160v-160H400v160Zm0 220h160v-160H400v160ZM180-400h160v-160H180v160Zm440 0h160v-160H620v160ZM180-180h160v-160H180v160Zm440 0h160v-160H620v160Z\"/>\n",
              "  </svg>\n",
              "    </button>\n",
              "\n",
              "  <style>\n",
              "    .colab-df-container {\n",
              "      display:flex;\n",
              "      gap: 12px;\n",
              "    }\n",
              "\n",
              "    .colab-df-convert {\n",
              "      background-color: #E8F0FE;\n",
              "      border: none;\n",
              "      border-radius: 50%;\n",
              "      cursor: pointer;\n",
              "      display: none;\n",
              "      fill: #1967D2;\n",
              "      height: 32px;\n",
              "      padding: 0 0 0 0;\n",
              "      width: 32px;\n",
              "    }\n",
              "\n",
              "    .colab-df-convert:hover {\n",
              "      background-color: #E2EBFA;\n",
              "      box-shadow: 0px 1px 2px rgba(60, 64, 67, 0.3), 0px 1px 3px 1px rgba(60, 64, 67, 0.15);\n",
              "      fill: #174EA6;\n",
              "    }\n",
              "\n",
              "    .colab-df-buttons div {\n",
              "      margin-bottom: 4px;\n",
              "    }\n",
              "\n",
              "    [theme=dark] .colab-df-convert {\n",
              "      background-color: #3B4455;\n",
              "      fill: #D2E3FC;\n",
              "    }\n",
              "\n",
              "    [theme=dark] .colab-df-convert:hover {\n",
              "      background-color: #434B5C;\n",
              "      box-shadow: 0px 1px 3px 1px rgba(0, 0, 0, 0.15);\n",
              "      filter: drop-shadow(0px 1px 2px rgba(0, 0, 0, 0.3));\n",
              "      fill: #FFFFFF;\n",
              "    }\n",
              "  </style>\n",
              "\n",
              "    <script>\n",
              "      const buttonEl =\n",
              "        document.querySelector('#df-927d47fd-f5bb-4930-9033-bf21928a64d5 button.colab-df-convert');\n",
              "      buttonEl.style.display =\n",
              "        google.colab.kernel.accessAllowed ? 'block' : 'none';\n",
              "\n",
              "      async function convertToInteractive(key) {\n",
              "        const element = document.querySelector('#df-927d47fd-f5bb-4930-9033-bf21928a64d5');\n",
              "        const dataTable =\n",
              "          await google.colab.kernel.invokeFunction('convertToInteractive',\n",
              "                                                    [key], {});\n",
              "        if (!dataTable) return;\n",
              "\n",
              "        const docLinkHtml = 'Like what you see? Visit the ' +\n",
              "          '<a target=\"_blank\" href=https://colab.research.google.com/notebooks/data_table.ipynb>data table notebook</a>'\n",
              "          + ' to learn more about interactive tables.';\n",
              "        element.innerHTML = '';\n",
              "        dataTable['output_type'] = 'display_data';\n",
              "        await google.colab.output.renderOutput(dataTable, element);\n",
              "        const docLink = document.createElement('div');\n",
              "        docLink.innerHTML = docLinkHtml;\n",
              "        element.appendChild(docLink);\n",
              "      }\n",
              "    </script>\n",
              "  </div>\n",
              "\n",
              "\n",
              "<div id=\"df-b0f3d411-a93a-4f82-a964-5919683772b0\">\n",
              "  <button class=\"colab-df-quickchart\" onclick=\"quickchart('df-b0f3d411-a93a-4f82-a964-5919683772b0')\"\n",
              "            title=\"Suggest charts\"\n",
              "            style=\"display:none;\">\n",
              "\n",
              "<svg xmlns=\"http://www.w3.org/2000/svg\" height=\"24px\"viewBox=\"0 0 24 24\"\n",
              "     width=\"24px\">\n",
              "    <g>\n",
              "        <path d=\"M19 3H5c-1.1 0-2 .9-2 2v14c0 1.1.9 2 2 2h14c1.1 0 2-.9 2-2V5c0-1.1-.9-2-2-2zM9 17H7v-7h2v7zm4 0h-2V7h2v10zm4 0h-2v-4h2v4z\"/>\n",
              "    </g>\n",
              "</svg>\n",
              "  </button>\n",
              "\n",
              "<style>\n",
              "  .colab-df-quickchart {\n",
              "      --bg-color: #E8F0FE;\n",
              "      --fill-color: #1967D2;\n",
              "      --hover-bg-color: #E2EBFA;\n",
              "      --hover-fill-color: #174EA6;\n",
              "      --disabled-fill-color: #AAA;\n",
              "      --disabled-bg-color: #DDD;\n",
              "  }\n",
              "\n",
              "  [theme=dark] .colab-df-quickchart {\n",
              "      --bg-color: #3B4455;\n",
              "      --fill-color: #D2E3FC;\n",
              "      --hover-bg-color: #434B5C;\n",
              "      --hover-fill-color: #FFFFFF;\n",
              "      --disabled-bg-color: #3B4455;\n",
              "      --disabled-fill-color: #666;\n",
              "  }\n",
              "\n",
              "  .colab-df-quickchart {\n",
              "    background-color: var(--bg-color);\n",
              "    border: none;\n",
              "    border-radius: 50%;\n",
              "    cursor: pointer;\n",
              "    display: none;\n",
              "    fill: var(--fill-color);\n",
              "    height: 32px;\n",
              "    padding: 0;\n",
              "    width: 32px;\n",
              "  }\n",
              "\n",
              "  .colab-df-quickchart:hover {\n",
              "    background-color: var(--hover-bg-color);\n",
              "    box-shadow: 0 1px 2px rgba(60, 64, 67, 0.3), 0 1px 3px 1px rgba(60, 64, 67, 0.15);\n",
              "    fill: var(--button-hover-fill-color);\n",
              "  }\n",
              "\n",
              "  .colab-df-quickchart-complete:disabled,\n",
              "  .colab-df-quickchart-complete:disabled:hover {\n",
              "    background-color: var(--disabled-bg-color);\n",
              "    fill: var(--disabled-fill-color);\n",
              "    box-shadow: none;\n",
              "  }\n",
              "\n",
              "  .colab-df-spinner {\n",
              "    border: 2px solid var(--fill-color);\n",
              "    border-color: transparent;\n",
              "    border-bottom-color: var(--fill-color);\n",
              "    animation:\n",
              "      spin 1s steps(1) infinite;\n",
              "  }\n",
              "\n",
              "  @keyframes spin {\n",
              "    0% {\n",
              "      border-color: transparent;\n",
              "      border-bottom-color: var(--fill-color);\n",
              "      border-left-color: var(--fill-color);\n",
              "    }\n",
              "    20% {\n",
              "      border-color: transparent;\n",
              "      border-left-color: var(--fill-color);\n",
              "      border-top-color: var(--fill-color);\n",
              "    }\n",
              "    30% {\n",
              "      border-color: transparent;\n",
              "      border-left-color: var(--fill-color);\n",
              "      border-top-color: var(--fill-color);\n",
              "      border-right-color: var(--fill-color);\n",
              "    }\n",
              "    40% {\n",
              "      border-color: transparent;\n",
              "      border-right-color: var(--fill-color);\n",
              "      border-top-color: var(--fill-color);\n",
              "    }\n",
              "    60% {\n",
              "      border-color: transparent;\n",
              "      border-right-color: var(--fill-color);\n",
              "    }\n",
              "    80% {\n",
              "      border-color: transparent;\n",
              "      border-right-color: var(--fill-color);\n",
              "      border-bottom-color: var(--fill-color);\n",
              "    }\n",
              "    90% {\n",
              "      border-color: transparent;\n",
              "      border-bottom-color: var(--fill-color);\n",
              "    }\n",
              "  }\n",
              "</style>\n",
              "\n",
              "  <script>\n",
              "    async function quickchart(key) {\n",
              "      const quickchartButtonEl =\n",
              "        document.querySelector('#' + key + ' button');\n",
              "      quickchartButtonEl.disabled = true;  // To prevent multiple clicks.\n",
              "      quickchartButtonEl.classList.add('colab-df-spinner');\n",
              "      try {\n",
              "        const charts = await google.colab.kernel.invokeFunction(\n",
              "            'suggestCharts', [key], {});\n",
              "      } catch (error) {\n",
              "        console.error('Error during call to suggestCharts:', error);\n",
              "      }\n",
              "      quickchartButtonEl.classList.remove('colab-df-spinner');\n",
              "      quickchartButtonEl.classList.add('colab-df-quickchart-complete');\n",
              "    }\n",
              "    (() => {\n",
              "      let quickchartButtonEl =\n",
              "        document.querySelector('#df-b0f3d411-a93a-4f82-a964-5919683772b0 button');\n",
              "      quickchartButtonEl.style.display =\n",
              "        google.colab.kernel.accessAllowed ? 'block' : 'none';\n",
              "    })();\n",
              "  </script>\n",
              "</div>\n",
              "\n",
              "    </div>\n",
              "  </div>\n"
            ]
          },
          "metadata": {},
          "execution_count": 3
        }
      ],
      "source": [
        "data.head()"
      ]
    },
    {
      "cell_type": "code",
      "execution_count": 4,
      "metadata": {
        "id": "i_K0_ZsywV5r"
      },
      "outputs": [],
      "source": [
        "Y = data[\"Price\"].values\n",
        "X = data.iloc[:,[2, 3, 4, 11]].values"
      ]
    },
    {
      "cell_type": "code",
      "execution_count": 5,
      "metadata": {
        "id": "lbvJGoUCxnIp"
      },
      "outputs": [],
      "source": [
        "X_train, X_test, Y_train, Y_test = train_test_split(X, Y, test_size = 0.95, random_state = 40)\n",
        "P_train = np.c_[X_train]\n",
        "P_train = tf.convert_to_tensor(P_train)\n",
        "Y_train = tf.convert_to_tensor(Y_train)"
      ]
    },
    {
      "cell_type": "markdown",
      "source": [
        "## Using neural networks for regression"
      ],
      "metadata": {
        "id": "OL0HPAPeV7w4"
      }
    },
    {
      "cell_type": "markdown",
      "source": [
        "Using a simple Sequential model that uses the Adam algorithm with Dense layers having linear activation functions and a ReLU function for the output layer."
      ],
      "metadata": {
        "id": "1f1lVzZVWEg-"
      }
    },
    {
      "cell_type": "code",
      "execution_count": null,
      "metadata": {
        "id": "H-WtIWAHyCru"
      },
      "outputs": [],
      "source": [
        "model = Sequential([Dense(units = 30, activation = 'linear'), Dense(units = 40, activation = 'linear'), Dense(units = 1, activation = 'relu')])\n",
        "from tensorflow.keras.losses import MeanSquaredError\n",
        "from tensorflow.keras.optimizers import Adam\n",
        "model.compile(optimizer = Adam(learning_rate = 0.001), loss = MeanSquaredError())\n",
        "model.fit(P_train, Y_train, epochs = 1000)"
      ]
    },
    {
      "cell_type": "markdown",
      "source": [
        "Seems to be a funny cost function. The cost either oscillates about the same value or keeps decreasing whenever I run the same cell. It must depend on where the model initializes the parameters(ig). Adam should have taken care of this?"
      ],
      "metadata": {
        "id": "N8BfvchFW8mf"
      }
    },
    {
      "cell_type": "markdown",
      "source": [
        "## Minimum Cost using Normal Equation"
      ],
      "metadata": {
        "id": "Hkz_wa8AV006"
      }
    },
    {
      "cell_type": "code",
      "execution_count": 8,
      "metadata": {
        "id": "_Aq7f3rqzELW",
        "colab": {
          "base_uri": "https://localhost:8080/"
        },
        "outputId": "944d4bdb-4e5d-42c9-bbf6-5e99461993a5"
      },
      "outputs": [
        {
          "output_type": "stream",
          "name": "stdout",
          "text": [
            "272821218849.71164\n"
          ]
        }
      ],
      "source": [
        "m,_ = P_train.shape\n",
        "b = np.ones((P_train.shape[0], 1))\n",
        "c = np.hstack((b, P_train))\n",
        "tran = c.T\n",
        "f1 = np.matmul(tran, c)\n",
        "f2 = np.linalg.inv(f1)\n",
        "f3 = np.matmul(f2, tran)\n",
        "final = np.matmul(f3, Y_train)\n",
        "def compute_cost1(x, y, w):\n",
        "  f = np.subtract(np.matmul(x,w), y)\n",
        "  fl = f.T\n",
        "  print(np.matmul(f.T, f)/(2*m))\n",
        "compute_cost1(c, Y_train, final)"
      ]
    },
    {
      "cell_type": "markdown",
      "source": [
        "Clearly, a big difference in the cost values. Will have to work on this."
      ],
      "metadata": {
        "id": "RIj89FfpVtdG"
      }
    },
    {
      "cell_type": "code",
      "source": [],
      "metadata": {
        "id": "VQ8AVLoH5Zad"
      },
      "execution_count": null,
      "outputs": []
    }
  ],
  "metadata": {
    "colab": {
      "provenance": [],
      "authorship_tag": "ABX9TyMYYUftKNKBqY7FNlCzL+a1",
      "include_colab_link": true
    },
    "kernelspec": {
      "display_name": "Python 3",
      "name": "python3"
    },
    "language_info": {
      "name": "python"
    }
  },
  "nbformat": 4,
  "nbformat_minor": 0
}